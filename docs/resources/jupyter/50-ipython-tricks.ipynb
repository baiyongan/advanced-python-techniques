{
 "cells": [
  {
   "cell_type": "markdown",
   "metadata": {},
   "source": [
    "## 01 `?` 打印 IPython 简介\n",
    "## 02 `object ?` 内省功能\n",
    "## 03 `object ??` 内省功能\n",
    "## 04 `history`历史命令\n",
    "## 05 `tab`自动补全\n",
    "## 06 `! shell_command` 执行shell命令\n",
    "## 07 魔法命令 `%` 和 `%%` 区别\n",
    "## 08 `%run` 运行脚本\n",
    "## 09 `%timeit` 测量代码运行时间\n",
    "## 10 `%%timeit` 测量代码运行时间\n",
    "\n",
    "## 11 `%pwd` 显示工作路径\n",
    "## 12 `%matplotlib inline` 显示图像\n",
    "## 13 `%conda` 安装第三方库\n",
    "## 14 `%pylab` 交互式计算\n",
    "## 15 `%quickref` 查看参考\n",
    "## 16 `%ls` 显示目录内容\n",
    "## 17 通配符 `*`\n",
    "## 18 `%cd` 修改目录\n",
    "## 19 `_` 打印前输出结果\n",
    "## 20 `;` 抑制输出\n",
    " \n",
    "## 21 `%debug` 交互式调试器\n",
    "## 22 `%pdb` 交互式调试器\n",
    "## 23 `%run -d` 交互式调试器\n",
    "## 24 `%pycat` 语法高亮\n",
    "## 25 `%load` 加载代码\n",
    "## 26 `%macro` 定义宏\n",
    "## 27 `%notebook` 导出notebook\n",
    "## 28 `%pdef` 打印构造信息\n",
    "## 29 `%pdoc` 打印文档\n",
    "## 30 `%precision` 浮点数精度\n",
    "\n",
    "## 31 `%xdel` 删除变量\n",
    "## 32 `%who` 显示变量\n",
    "## 33 `%who` 显示变量\n",
    "## 34 `%save` 保存cell\n",
    "## 35 `%reset` 重置\n",
    "## 36 `%rerun` 执行前代码\n",
    "## 37 `%%HTML` 渲染HTML\n",
    "## 38 `%%javascript` 运行JavaScript\n",
    "## 39 `%%latex` 渲染LaTeX\n",
    "## 40 `%%markdown` 渲染markdown\n",
    "\n",
    "## 41 `%%writefile` 写入文件\n",
    "## 42 `%bookmark` 保存书签\n",
    "## 43 `%paste` 粘贴代码块\n",
    "## 44 `%magic` 获取魔法命令列表\n",
    "## 45 In和Out\n",
    "## 46 `%xmode` 控制异常\n",
    "## 47 jupyter qtconsole\n",
    "## 48 IPython导航快捷键\n",
    "## 49 IPython文本输入快捷键\n",
    "## 50 IPython命令历史快捷键\n"
   ]
  },
  {
   "cell_type": "code",
   "execution_count": null,
   "metadata": {},
   "outputs": [],
   "source": []
  }
 ],
 "metadata": {
  "kernelspec": {
   "display_name": "Python 3",
   "language": "python",
   "name": "python3"
  },
  "language_info": {
   "codemirror_mode": {
    "name": "ipython",
    "version": 3
   },
   "file_extension": ".py",
   "mimetype": "text/x-python",
   "name": "python",
   "nbconvert_exporter": "python",
   "pygments_lexer": "ipython3",
   "version": "3.7.6"
  }
 },
 "nbformat": 4,
 "nbformat_minor": 4
}
